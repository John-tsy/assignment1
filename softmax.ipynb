{
 "cells": [
  {
   "cell_type": "markdown",
   "metadata": {
    "tags": [
     "pdf-title"
    ]
   },
   "source": [
    "# Softmax exercise\n",
    "\n",
    "*Complete and hand in this completed worksheet (including its outputs and any supporting code outside of the worksheet) with your assignment submission. For more details see the [assignments page](http://vision.stanford.edu/teaching/cs231n/assignments.html) on the course website.*\n",
    "\n",
    "This exercise is analogous to the SVM exercise. You will:\n",
    "\n",
    "- implement a fully-vectorized **loss function** for the Softmax classifier\n",
    "- implement the fully-vectorized expression for its **analytic gradient**\n",
    "- **check your implementation** with numerical gradient\n",
    "- use a validation set to **tune the learning rate and regularization** strength\n",
    "- **optimize** the loss function with **SGD**\n",
    "- **visualize** the final learned weights\n"
   ]
  },
  {
   "cell_type": "code",
   "execution_count": 1,
   "metadata": {
    "tags": [
     "pdf-ignore"
    ]
   },
   "outputs": [],
   "source": [
    "import random\n",
    "import numpy as np\n",
    "from cs231n.data_utils import load_CIFAR10\n",
    "import matplotlib.pyplot as plt\n",
    "\n",
    "%matplotlib inline\n",
    "plt.rcParams['figure.figsize'] = (10.0, 8.0) # set default size of plots\n",
    "plt.rcParams['image.interpolation'] = 'nearest'\n",
    "plt.rcParams['image.cmap'] = 'gray'\n",
    "\n",
    "# for auto-reloading extenrnal modules\n",
    "# see http://stackoverflow.com/questions/1907993/autoreload-of-modules-in-ipython\n",
    "%load_ext autoreload\n",
    "%autoreload 2"
   ]
  },
  {
   "cell_type": "code",
   "execution_count": 2,
   "metadata": {
    "tags": [
     "pdf-ignore"
    ]
   },
   "outputs": [
    {
     "name": "stdout",
     "output_type": "stream",
     "text": [
      "Train data shape:  (49000, 3073)\n",
      "Train labels shape:  (49000,)\n",
      "Validation data shape:  (1000, 3073)\n",
      "Validation labels shape:  (1000,)\n",
      "Test data shape:  (1000, 3073)\n",
      "Test labels shape:  (1000,)\n",
      "dev data shape:  (500, 3073)\n",
      "dev labels shape:  (500,)\n"
     ]
    }
   ],
   "source": [
    "def get_CIFAR10_data(num_training=49000, num_validation=1000, num_test=1000, num_dev=500):\n",
    "    \"\"\"\n",
    "    Load the CIFAR-10 dataset from disk and perform preprocessing to prepare\n",
    "    it for the linear classifier. These are the same steps as we used for the\n",
    "    SVM, but condensed to a single function.  \n",
    "    \"\"\"\n",
    "    # Load the raw CIFAR-10 data\n",
    "    cifar10_dir = 'cs231n/datasets/cifar-10-batches-py'\n",
    "    \n",
    "    # Cleaning up variables to prevent loading data multiple times (which may cause memory issue)\n",
    "    try:\n",
    "       del X_train, y_train\n",
    "       del X_test, y_test\n",
    "       print('Clear previously loaded data.')\n",
    "    except:\n",
    "       pass\n",
    "\n",
    "    X_train, y_train, X_test, y_test = load_CIFAR10(cifar10_dir)\n",
    "    \n",
    "    # subsample the data\n",
    "    mask = list(range(num_training, num_training + num_validation))\n",
    "    X_val = X_train[mask]\n",
    "    y_val = y_train[mask]\n",
    "    mask = list(range(num_training))\n",
    "    X_train = X_train[mask]\n",
    "    y_train = y_train[mask]\n",
    "    mask = list(range(num_test))\n",
    "    X_test = X_test[mask]\n",
    "    y_test = y_test[mask]\n",
    "    mask = np.random.choice(num_training, num_dev, replace=False)\n",
    "    X_dev = X_train[mask]\n",
    "    y_dev = y_train[mask]\n",
    "    \n",
    "    # Preprocessing: reshape the image data into rows\n",
    "    X_train = np.reshape(X_train, (X_train.shape[0], -1))\n",
    "    X_val = np.reshape(X_val, (X_val.shape[0], -1))\n",
    "    X_test = np.reshape(X_test, (X_test.shape[0], -1))\n",
    "    X_dev = np.reshape(X_dev, (X_dev.shape[0], -1))\n",
    "    \n",
    "    # Normalize the data: subtract the mean image\n",
    "    mean_image = np.mean(X_train, axis = 0)\n",
    "    X_train -= mean_image\n",
    "    X_val -= mean_image\n",
    "    X_test -= mean_image\n",
    "    X_dev -= mean_image\n",
    "    \n",
    "    # add bias dimension and transform into columns\n",
    "    X_train = np.hstack([X_train, np.ones((X_train.shape[0], 1))])\n",
    "    X_val = np.hstack([X_val, np.ones((X_val.shape[0], 1))])\n",
    "    X_test = np.hstack([X_test, np.ones((X_test.shape[0], 1))])\n",
    "    X_dev = np.hstack([X_dev, np.ones((X_dev.shape[0], 1))])\n",
    "    \n",
    "    return X_train, y_train, X_val, y_val, X_test, y_test, X_dev, y_dev\n",
    "\n",
    "\n",
    "# Invoke the above function to get our data.\n",
    "X_train, y_train, X_val, y_val, X_test, y_test, X_dev, y_dev = get_CIFAR10_data()\n",
    "print('Train data shape: ', X_train.shape)\n",
    "print('Train labels shape: ', y_train.shape)\n",
    "print('Validation data shape: ', X_val.shape)\n",
    "print('Validation labels shape: ', y_val.shape)\n",
    "print('Test data shape: ', X_test.shape)\n",
    "print('Test labels shape: ', y_test.shape)\n",
    "print('dev data shape: ', X_dev.shape)\n",
    "print('dev labels shape: ', y_dev.shape)"
   ]
  },
  {
   "cell_type": "markdown",
   "metadata": {},
   "source": [
    "## Softmax Classifier\n",
    "\n",
    "Your code for this section will all be written inside **cs231n/classifiers/softmax.py**. \n"
   ]
  },
  {
   "cell_type": "code",
   "execution_count": 3,
   "metadata": {},
   "outputs": [
    {
     "name": "stdout",
     "output_type": "stream",
     "text": [
      "loss: 2.370194\n",
      "sanity check: 2.302585\n"
     ]
    }
   ],
   "source": [
    "# First implement the naive softmax loss function with nested loops.\n",
    "# Open the file cs231n/classifiers/softmax.py and implement the\n",
    "# softmax_loss_naive function.\n",
    "\n",
    "from cs231n.classifiers.softmax import softmax_loss_naive\n",
    "import time\n",
    "\n",
    "# Generate a random softmax weight matrix and use it to compute the loss.\n",
    "W = np.random.randn(3073, 10) * 0.0001\n",
    "loss, grad = softmax_loss_naive(W, X_dev, y_dev, 0.0)\n",
    "\n",
    "# As a rough sanity check, our loss should be something close to -log(0.1).\n",
    "print('loss: %f' % loss)\n",
    "print('sanity check: %f' % (-np.log(0.1)))"
   ]
  },
  {
   "cell_type": "markdown",
   "metadata": {
    "tags": [
     "pdf-inline"
    ]
   },
   "source": [
    "**Inline Question 1**\n",
    "\n",
    "Why do we expect our loss to be close to -log(0.1)? Explain briefly.**\n",
    "\n",
    "$\\color{blue}{\\textit Your Answer:}$ *因为初始化的时候很小，是0.0001，就单个例子（N个例子求均值是一样的）而言，3073维乘以大约在0.0001左右的小数，大约等于0.1，因为为Loss = -np.log(sj), 而sj=0.1,所以大约在-np.log(0.1)左右* \n",
    "\n"
   ]
  },
  {
   "cell_type": "code",
   "execution_count": 5,
   "metadata": {},
   "outputs": [
    {
     "name": "stdout",
     "output_type": "stream",
     "text": [
      "numerical: -0.053282 analytic: -0.053282, relative error: 1.562103e-06\n",
      "numerical: 2.372413 analytic: 2.372413, relative error: 2.639243e-08\n",
      "numerical: 1.794174 analytic: 1.794174, relative error: 7.068634e-08\n",
      "numerical: 1.180580 analytic: 1.180580, relative error: 1.015791e-09\n",
      "numerical: -2.868217 analytic: -2.868217, relative error: 9.167206e-10\n",
      "numerical: -6.398756 analytic: -6.398756, relative error: 3.280947e-10\n",
      "numerical: -1.047427 analytic: -1.047427, relative error: 1.040360e-08\n",
      "numerical: -0.522779 analytic: -0.522779, relative error: 4.957484e-08\n",
      "numerical: -2.806134 analytic: -2.806134, relative error: 7.580921e-09\n",
      "numerical: 0.508081 analytic: 0.508081, relative error: 4.633572e-08\n",
      "numerical: -0.162989 analytic: -0.162989, relative error: 2.111171e-07\n",
      "numerical: -0.281151 analytic: -0.281151, relative error: 3.033230e-08\n",
      "numerical: 1.654579 analytic: 1.654578, relative error: 2.827058e-08\n",
      "numerical: -0.444560 analytic: -0.444560, relative error: 8.937517e-09\n",
      "numerical: -2.554204 analytic: -2.554205, relative error: 1.596510e-08\n",
      "numerical: 0.698832 analytic: 0.698832, relative error: 3.809138e-08\n",
      "numerical: -1.590212 analytic: -1.590212, relative error: 1.969358e-09\n",
      "numerical: -0.515478 analytic: -0.515478, relative error: 1.025057e-08\n",
      "numerical: 0.957894 analytic: 0.957894, relative error: 6.422775e-08\n",
      "numerical: -0.157595 analytic: -0.157595, relative error: 6.912958e-07\n"
     ]
    }
   ],
   "source": [
    "# Complete the implementation of softmax_loss_naive and implement a (naive)\n",
    "# version of the gradient that uses nested loops.\n",
    "loss, grad = softmax_loss_naive(W, X_dev, y_dev, 0.0)\n",
    "\n",
    "# As we did for the SVM, use numeric gradient checking as a debugging tool.\n",
    "# The numeric gradient should be close to the analytic gradient.\n",
    "from cs231n.gradient_check import grad_check_sparse\n",
    "f = lambda w: softmax_loss_naive(w, X_dev, y_dev, 0.0)[0]\n",
    "grad_numerical = grad_check_sparse(f, W, grad, 10)\n",
    "\n",
    "# similar to SVM case, do another gradient check with regularization\n",
    "loss, grad = softmax_loss_naive(W, X_dev, y_dev, 5e1)\n",
    "f = lambda w: softmax_loss_naive(w, X_dev, y_dev, 5e1)[0]\n",
    "grad_numerical = grad_check_sparse(f, W, grad, 10)"
   ]
  },
  {
   "cell_type": "code",
   "execution_count": 6,
   "metadata": {},
   "outputs": [
    {
     "name": "stdout",
     "output_type": "stream",
     "text": [
      "naive loss: 2.370194e+00 computed in 0.237715s\n",
      "vectorized loss: 2.370194e+00 computed in 0.010983s\n",
      "Loss difference: 0.000000\n",
      "Gradient difference: 0.000000\n"
     ]
    }
   ],
   "source": [
    "# Now that we have a naive implementation of the softmax loss function and its gradient,\n",
    "# implement a vectorized version in softmax_loss_vectorized.\n",
    "# The two versions should compute the same results, but the vectorized version should be\n",
    "# much faster.\n",
    "tic = time.time()\n",
    "loss_naive, grad_naive = softmax_loss_naive(W, X_dev, y_dev, 0.000005)\n",
    "toc = time.time()\n",
    "print('naive loss: %e computed in %fs' % (loss_naive, toc - tic))\n",
    "\n",
    "from cs231n.classifiers.softmax import softmax_loss_vectorized\n",
    "tic = time.time()\n",
    "loss_vectorized, grad_vectorized = softmax_loss_vectorized(W, X_dev, y_dev, 0.000005)\n",
    "toc = time.time()\n",
    "print('vectorized loss: %e computed in %fs' % (loss_vectorized, toc - tic))\n",
    "\n",
    "# As we did for the SVM, we use the Frobenius norm to compare the two versions\n",
    "# of the gradient.\n",
    "grad_difference = np.linalg.norm(grad_naive - grad_vectorized, ord='fro')\n",
    "print('Loss difference: %f' % np.abs(loss_naive - loss_vectorized))\n",
    "print('Gradient difference: %f' % grad_difference)"
   ]
  },
  {
   "cell_type": "code",
   "execution_count": 7,
   "metadata": {
    "tags": [
     "code"
    ]
   },
   "outputs": [
    {
     "name": "stdout",
     "output_type": "stream",
     "text": [
      "iteration 0 / 1500: loss 785.686629\n",
      "iteration 100 / 1500: loss 288.216035\n",
      "iteration 200 / 1500: loss 106.807077\n",
      "iteration 300 / 1500: loss 40.317228\n",
      "iteration 400 / 1500: loss 16.081098\n",
      "iteration 500 / 1500: loss 7.255741\n",
      "iteration 600 / 1500: loss 4.034587\n",
      "iteration 700 / 1500: loss 2.760722\n",
      "iteration 800 / 1500: loss 2.328739\n",
      "iteration 900 / 1500: loss 2.205029\n",
      "iteration 1000 / 1500: loss 2.097818\n",
      "iteration 1100 / 1500: loss 2.086172\n",
      "iteration 1200 / 1500: loss 2.042561\n",
      "iteration 1300 / 1500: loss 2.065814\n",
      "iteration 1400 / 1500: loss 2.183654\n",
      "iteration 0 / 1500: loss 770.913681\n",
      "iteration 100 / 1500: loss 104.305794\n",
      "iteration 200 / 1500: loss 15.732930\n",
      "iteration 300 / 1500: loss 3.921699\n",
      "iteration 400 / 1500: loss 2.278916\n",
      "iteration 500 / 1500: loss 2.166622\n",
      "iteration 600 / 1500: loss 2.058556\n",
      "iteration 700 / 1500: loss 2.064888\n",
      "iteration 800 / 1500: loss 2.132113\n",
      "iteration 900 / 1500: loss 2.090496\n",
      "iteration 1000 / 1500: loss 2.143877\n",
      "iteration 1100 / 1500: loss 2.056800\n",
      "iteration 1200 / 1500: loss 2.088677\n",
      "iteration 1300 / 1500: loss 2.081983\n",
      "iteration 1400 / 1500: loss 2.102556\n",
      "iteration 0 / 1500: loss 780.199449\n",
      "iteration 100 / 1500: loss 39.578260\n",
      "iteration 200 / 1500: loss 3.928546\n",
      "iteration 300 / 1500: loss 2.206098\n",
      "iteration 400 / 1500: loss 2.156329\n",
      "iteration 500 / 1500: loss 2.091635\n",
      "iteration 600 / 1500: loss 2.095295\n",
      "iteration 700 / 1500: loss 2.063988\n",
      "iteration 800 / 1500: loss 2.065532\n",
      "iteration 900 / 1500: loss 2.080582\n",
      "iteration 1000 / 1500: loss 2.033158\n",
      "iteration 1100 / 1500: loss 2.113022\n",
      "iteration 1200 / 1500: loss 2.106033\n",
      "iteration 1300 / 1500: loss 2.089371\n",
      "iteration 1400 / 1500: loss 2.121821\n",
      "iteration 0 / 1500: loss 777.508501\n",
      "iteration 100 / 1500: loss 15.503092\n",
      "iteration 200 / 1500: loss 2.333485\n",
      "iteration 300 / 1500: loss 2.121291\n",
      "iteration 400 / 1500: loss 2.138631\n",
      "iteration 500 / 1500: loss 2.143578\n",
      "iteration 600 / 1500: loss 2.124686\n",
      "iteration 700 / 1500: loss 2.062220\n",
      "iteration 800 / 1500: loss 2.088844\n",
      "iteration 900 / 1500: loss 2.086358\n",
      "iteration 1000 / 1500: loss 2.087090\n",
      "iteration 1100 / 1500: loss 2.102395\n",
      "iteration 1200 / 1500: loss 2.100578\n",
      "iteration 1300 / 1500: loss 2.110539\n",
      "iteration 1400 / 1500: loss 2.127557\n",
      "iteration 0 / 1500: loss 777.854241\n",
      "iteration 100 / 1500: loss 6.923488\n",
      "iteration 200 / 1500: loss 2.120421\n",
      "iteration 300 / 1500: loss 2.095773\n",
      "iteration 400 / 1500: loss 2.041137\n",
      "iteration 500 / 1500: loss 2.119285\n",
      "iteration 600 / 1500: loss 2.064244\n",
      "iteration 700 / 1500: loss 2.095867\n",
      "iteration 800 / 1500: loss 2.098821\n",
      "iteration 900 / 1500: loss 2.077974\n",
      "iteration 1000 / 1500: loss 2.089062\n",
      "iteration 1100 / 1500: loss 2.097651\n",
      "iteration 1200 / 1500: loss 2.128328\n",
      "iteration 1300 / 1500: loss 2.112693\n",
      "iteration 1400 / 1500: loss 2.159474\n",
      "iteration 0 / 1500: loss 768.239675\n",
      "iteration 100 / 1500: loss 3.768161\n",
      "iteration 200 / 1500: loss 2.117507\n",
      "iteration 300 / 1500: loss 2.057692\n",
      "iteration 400 / 1500: loss 2.097655\n",
      "iteration 500 / 1500: loss 2.100870\n",
      "iteration 600 / 1500: loss 2.065062\n",
      "iteration 700 / 1500: loss 2.057237\n",
      "iteration 800 / 1500: loss 2.094339\n",
      "iteration 900 / 1500: loss 2.074492\n",
      "iteration 1000 / 1500: loss 2.092443\n",
      "iteration 1100 / 1500: loss 2.068217\n",
      "iteration 1200 / 1500: loss 2.123449\n",
      "iteration 1300 / 1500: loss 2.053459\n",
      "iteration 1400 / 1500: loss 2.062788\n",
      "iteration 0 / 1500: loss 781.158705\n",
      "iteration 100 / 1500: loss 2.674193\n",
      "iteration 200 / 1500: loss 2.056628\n",
      "iteration 300 / 1500: loss 2.108876\n",
      "iteration 400 / 1500: loss 2.048552\n",
      "iteration 500 / 1500: loss 2.070141\n",
      "iteration 600 / 1500: loss 2.095920\n",
      "iteration 700 / 1500: loss 2.128315\n",
      "iteration 800 / 1500: loss 2.084885\n",
      "iteration 900 / 1500: loss 2.139652\n",
      "iteration 1000 / 1500: loss 2.043973\n",
      "iteration 1100 / 1500: loss 2.091610\n",
      "iteration 1200 / 1500: loss 2.097758\n",
      "iteration 1300 / 1500: loss 2.111289\n",
      "iteration 1400 / 1500: loss 2.096181\n",
      "iteration 0 / 1500: loss 777.593965\n",
      "iteration 100 / 1500: loss 2.329777\n",
      "iteration 200 / 1500: loss 2.125031\n",
      "iteration 300 / 1500: loss 2.091462\n",
      "iteration 400 / 1500: loss 2.132317\n",
      "iteration 500 / 1500: loss 2.073522\n",
      "iteration 600 / 1500: loss 2.077786\n",
      "iteration 700 / 1500: loss 2.114355\n",
      "iteration 800 / 1500: loss 2.096679\n",
      "iteration 900 / 1500: loss 2.170752\n",
      "iteration 1000 / 1500: loss 2.099615\n",
      "iteration 1100 / 1500: loss 2.122131\n",
      "iteration 1200 / 1500: loss 2.092407\n",
      "iteration 1300 / 1500: loss 2.146031\n",
      "iteration 1400 / 1500: loss 2.043198\n",
      "iteration 0 / 1500: loss 771.425180\n",
      "iteration 100 / 1500: loss 2.125119\n",
      "iteration 200 / 1500: loss 2.112377\n",
      "iteration 300 / 1500: loss 2.076220\n",
      "iteration 400 / 1500: loss 2.073192\n",
      "iteration 500 / 1500: loss 2.131701\n",
      "iteration 600 / 1500: loss 2.117640\n",
      "iteration 700 / 1500: loss 2.104941\n",
      "iteration 800 / 1500: loss 2.103507\n",
      "iteration 900 / 1500: loss 2.073486\n",
      "iteration 1000 / 1500: loss 2.080631\n",
      "iteration 1100 / 1500: loss 2.101994\n",
      "iteration 1200 / 1500: loss 2.120707\n",
      "iteration 1300 / 1500: loss 2.123125\n",
      "iteration 1400 / 1500: loss 2.083646\n",
      "lr 1.000000e-07 reg 2.500000e+04 train accuracy: 0.327163 val accuracy: 0.337000\n",
      "lr 2.000000e-07 reg 2.500000e+04 train accuracy: 0.329612 val accuracy: 0.338000\n",
      "lr 3.000000e-07 reg 2.500000e+04 train accuracy: 0.326571 val accuracy: 0.344000\n",
      "lr 4.000000e-07 reg 2.500000e+04 train accuracy: 0.323041 val accuracy: 0.331000\n",
      "lr 5.000000e-07 reg 2.500000e+04 train accuracy: 0.326143 val accuracy: 0.341000\n",
      "lr 6.000000e-07 reg 2.500000e+04 train accuracy: 0.330735 val accuracy: 0.336000\n",
      "lr 7.000000e-07 reg 2.500000e+04 train accuracy: 0.315592 val accuracy: 0.336000\n",
      "lr 8.000000e-07 reg 2.500000e+04 train accuracy: 0.314449 val accuracy: 0.332000\n",
      "lr 9.000000e-07 reg 2.500000e+04 train accuracy: 0.316082 val accuracy: 0.333000\n",
      "best validation accuracy achieved during cross-validation: 0.344000\n"
     ]
    }
   ],
   "source": [
    "# Use the validation set to tune hyperparameters (regularization strength and\n",
    "# learning rate). You should experiment with different ranges for the learning\n",
    "# rates and regularization strengths; if you are careful you should be able to\n",
    "# get a classification accuracy of over 0.35 on the validation set.\n",
    "from cs231n.classifiers import Softmax\n",
    "results = {}\n",
    "best_val = -1\n",
    "best_softmax = None\n",
    "# learning_rates = [1e-7, 5e-5]\n",
    "learning_rates = [1e-7, 1e-6]\n",
    "# regularization_strengths = [2.5e4, 5e4]\n",
    "regularization_strengths = [2.5e4, 3e4]\n",
    "\n",
    "################################################################################\n",
    "# TODO:                                                                        #\n",
    "# Use the validation set to set the learning rate and regularization strength. #\n",
    "# This should be identical to the validation that you did for the SVM; save    #\n",
    "# the best trained softmax classifer in best_softmax.                          #\n",
    "################################################################################\n",
    "# *****START OF YOUR CODE (DO NOT DELETE/MODIFY THIS LINE)*****\n",
    "for learn_rate in range(0,int((learning_rates[1]-learning_rates[0])/1e-7)):\n",
    "    for reg in range(0,int((regularization_strengths[1]-regularization_strengths[0])/5e3)):\n",
    "        my_soft = Softmax()\n",
    "        loss_hist = my_soft.train(X_train, y_train, learning_rate=learn_rate*1e-7+learning_rates[0], reg=reg*5e3+regularization_strengths[0],\n",
    "                      num_iters=1500, verbose=True)\n",
    "        y_train_pred = my_soft.predict(X_train)\n",
    "#         print('training accuracy: %f' % (np.mean(y_train == y_train_pred), ))\n",
    "        y_val_pred = my_soft.predict(X_val)\n",
    "        train_acc = np.mean(y_train==y_train_pred)\n",
    "        val_acc = np.mean(y_val==y_val_pred)\n",
    "        results[(learn_rate*1e-7+learning_rates[0],reg*5e3+regularization_strengths[0])] = (train_acc,val_acc)\n",
    "        if val_acc>best_val:\n",
    "            best_val = val_acc\n",
    "            best_softmax = my_soft\n",
    "\n",
    "# *****END OF YOUR CODE (DO NOT DELETE/MODIFY THIS LINE)*****\n",
    "    \n",
    "# Print out results.\n",
    "for lr, reg in sorted(results):\n",
    "    train_accuracy, val_accuracy = results[(lr, reg)]\n",
    "    print('lr %e reg %e train accuracy: %f val accuracy: %f' % (\n",
    "                lr, reg, train_accuracy, val_accuracy))\n",
    "    \n",
    "print('best validation accuracy achieved during cross-validation: %f' % best_val)"
   ]
  },
  {
   "cell_type": "code",
   "execution_count": 10,
   "metadata": {},
   "outputs": [
    {
     "name": "stdout",
     "output_type": "stream",
     "text": [
      "softmax on raw pixels final test set accuracy: 0.343000\n"
     ]
    }
   ],
   "source": [
    "# evaluate on test set\n",
    "# Evaluate the best softmax on test set\n",
    "y_test_pred = best_softmax.predict(X_test)\n",
    "test_accuracy = np.mean(y_test == y_test_pred)\n",
    "print('softmax on raw pixels final test set accuracy: %f' % (test_accuracy, ))"
   ]
  },
  {
   "cell_type": "markdown",
   "metadata": {
    "tags": [
     "pdf-inline"
    ]
   },
   "source": [
    "**Inline Question 2** - *True or False*\n",
    "\n",
    "Suppose the overall training loss is defined as the sum of the per-datapoint loss over all training examples. It is possible to add a new datapoint to a training set that would leave the SVM loss unchanged, but this is not the case with the Softmax classifier loss.\n",
    "\n",
    "$\\color{blue}{\\textit Your Answer:}$ True\n",
    "\n",
    "\n",
    "$\\color{blue}{\\textit Your Explanation:}$ 因为softmax的损失函数和所有的输出有关，多一些输出那么及时值不变，损失值也会变。但是对于SVM来说，只要正确的预测值和错误的预测值之间的差值越过margin，那么就对最终的损失函数没有什么影响，所有可能不变\n",
    "\n"
   ]
  },
  {
   "cell_type": "code",
   "execution_count": 11,
   "metadata": {},
   "outputs": [
    {
     "data": {
      "image/png": "[encoded data removed]",
      "text/plain": [
       "<matplotlib.figure.Figure at 0x17a00cf3748>"
      ]
     },
     "metadata": {},
     "output_type": "display_data"
    }
   ],
   "source": [
    "# Visualize the learned weights for each class\n",
    "w = best_softmax.W[:-1,:] # strip out the bias\n",
    "w = w.reshape(32, 32, 3, 10)\n",
    "\n",
    "w_min, w_max = np.min(w), np.max(w)\n",
    "\n",
    "classes = ['plane', 'car', 'bird', 'cat', 'deer', 'dog', 'frog', 'horse', 'ship', 'truck']\n",
    "for i in range(10):\n",
    "    plt.subplot(2, 5, i + 1)\n",
    "    \n",
    "    # Rescale the weights to be between 0 and 255\n",
    "    wimg = 255.0 * (w[:, :, :, i].squeeze() - w_min) / (w_max - w_min)\n",
    "    plt.imshow(wimg.astype('uint8'))\n",
    "    plt.axis('off')\n",
    "    plt.title(classes[i])"
   ]
  },
  {
   "cell_type": "code",
   "execution_count": null,
   "metadata": {},
   "outputs": [],
   "source": []
  }
 ],
 "metadata": {
  "kernelspec": {
   "display_name": "Python 3",
   "language": "python",
   "name": "python3"
  },
  "language_info": {
   "codemirror_mode": {
    "name": "ipython",
    "version": 3
   },
   "file_extension": ".py",
   "mimetype": "text/x-python",
   "name": "python",
   "nbconvert_exporter": "python",
   "pygments_lexer": "ipython3",
   "version": "3.6.4"
  }
 },
 "nbformat": 4,
 "nbformat_minor": 1
}
